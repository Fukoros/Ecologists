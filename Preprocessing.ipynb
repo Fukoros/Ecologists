{
 "cells": [
  {
   "cell_type": "code",
   "execution_count": 1,
   "metadata": {},
   "outputs": [],
   "source": [
    "from pathlib import Path\n",
    "\n",
    "import numpy as np\n",
    "import pandas as pd\n",
    "import os\n",
    "import glob\n",
    "import matplotlib.pyplot as plt\n",
    "import matplotlib.image as mpimg\n",
    "from IPython.display import Image\n",
    "import matplotlib.pyplot as plt\n",
    "import matplotlib.image as mpimg\n",
    "from PIL import Image"
   ]
  },
  {
   "cell_type": "markdown",
   "metadata": {},
   "source": [
    "# Load the data :"
   ]
  },
  {
   "cell_type": "code",
   "execution_count": 4,
   "metadata": {},
   "outputs": [],
   "source": [
    "dataset_path=Path('C:/Users/Thibaut/Desktop/archive/kaggle_bee_vs_wasp') ##TO CHANGE WHEN IN FINAL FILE\n",
    "data = pd.read_csv(dataset_path/'labels.csv')"
   ]
  },
  {
   "cell_type": "code",
   "execution_count": 5,
   "metadata": {},
   "outputs": [
    {
     "data": {
      "text/html": [
       "<div>\n",
       "<style scoped>\n",
       "    .dataframe tbody tr th:only-of-type {\n",
       "        vertical-align: middle;\n",
       "    }\n",
       "\n",
       "    .dataframe tbody tr th {\n",
       "        vertical-align: top;\n",
       "    }\n",
       "\n",
       "    .dataframe thead th {\n",
       "        text-align: right;\n",
       "    }\n",
       "</style>\n",
       "<table border=\"1\" class=\"dataframe\">\n",
       "  <thead>\n",
       "    <tr style=\"text-align: right;\">\n",
       "      <th></th>\n",
       "      <th>id</th>\n",
       "      <th>path</th>\n",
       "      <th>is_bee</th>\n",
       "      <th>is_wasp</th>\n",
       "      <th>is_otherinsect</th>\n",
       "      <th>is_other</th>\n",
       "      <th>photo_quality</th>\n",
       "      <th>is_validation</th>\n",
       "      <th>is_final_validation</th>\n",
       "      <th>label</th>\n",
       "    </tr>\n",
       "  </thead>\n",
       "  <tbody>\n",
       "    <tr>\n",
       "      <th>0</th>\n",
       "      <td>1</td>\n",
       "      <td>bee1\\10007154554_026417cfd0_n.jpg</td>\n",
       "      <td>1</td>\n",
       "      <td>0</td>\n",
       "      <td>0</td>\n",
       "      <td>0</td>\n",
       "      <td>1</td>\n",
       "      <td>0</td>\n",
       "      <td>0</td>\n",
       "      <td>bee</td>\n",
       "    </tr>\n",
       "    <tr>\n",
       "      <th>1</th>\n",
       "      <td>2</td>\n",
       "      <td>bee1\\10024864894_6dc54d4b34_n.jpg</td>\n",
       "      <td>1</td>\n",
       "      <td>0</td>\n",
       "      <td>0</td>\n",
       "      <td>0</td>\n",
       "      <td>1</td>\n",
       "      <td>0</td>\n",
       "      <td>1</td>\n",
       "      <td>bee</td>\n",
       "    </tr>\n",
       "    <tr>\n",
       "      <th>2</th>\n",
       "      <td>3</td>\n",
       "      <td>bee1\\10092043833_7306dfd1f0_n.jpg</td>\n",
       "      <td>1</td>\n",
       "      <td>0</td>\n",
       "      <td>0</td>\n",
       "      <td>0</td>\n",
       "      <td>1</td>\n",
       "      <td>1</td>\n",
       "      <td>0</td>\n",
       "      <td>bee</td>\n",
       "    </tr>\n",
       "  </tbody>\n",
       "</table>\n",
       "</div>"
      ],
      "text/plain": [
       "   id                               path  is_bee  is_wasp  is_otherinsect  \\\n",
       "0   1  bee1\\10007154554_026417cfd0_n.jpg       1        0               0   \n",
       "1   2  bee1\\10024864894_6dc54d4b34_n.jpg       1        0               0   \n",
       "2   3  bee1\\10092043833_7306dfd1f0_n.jpg       1        0               0   \n",
       "\n",
       "   is_other  photo_quality  is_validation  is_final_validation label  \n",
       "0         0              1              0                    0   bee  \n",
       "1         0              1              0                    1   bee  \n",
       "2         0              1              1                    0   bee  "
      ]
     },
     "execution_count": 5,
     "metadata": {},
     "output_type": "execute_result"
    }
   ],
   "source": [
    "data.head(3)"
   ]
  },
  {
   "cell_type": "markdown",
   "metadata": {},
   "source": [
    "We drop the id columns because it's useless :"
   ]
  },
  {
   "cell_type": "code",
   "execution_count": 6,
   "metadata": {},
   "outputs": [],
   "source": [
    "data = data.drop(columns = 'id')"
   ]
  },
  {
   "cell_type": "code",
   "execution_count": 7,
   "metadata": {},
   "outputs": [
    {
     "data": {
      "text/html": [
       "<div>\n",
       "<style scoped>\n",
       "    .dataframe tbody tr th:only-of-type {\n",
       "        vertical-align: middle;\n",
       "    }\n",
       "\n",
       "    .dataframe tbody tr th {\n",
       "        vertical-align: top;\n",
       "    }\n",
       "\n",
       "    .dataframe thead th {\n",
       "        text-align: right;\n",
       "    }\n",
       "</style>\n",
       "<table border=\"1\" class=\"dataframe\">\n",
       "  <thead>\n",
       "    <tr style=\"text-align: right;\">\n",
       "      <th></th>\n",
       "      <th>path</th>\n",
       "      <th>is_bee</th>\n",
       "      <th>is_wasp</th>\n",
       "      <th>is_otherinsect</th>\n",
       "      <th>is_other</th>\n",
       "      <th>photo_quality</th>\n",
       "      <th>is_validation</th>\n",
       "      <th>is_final_validation</th>\n",
       "      <th>label</th>\n",
       "    </tr>\n",
       "  </thead>\n",
       "  <tbody>\n",
       "    <tr>\n",
       "      <th>0</th>\n",
       "      <td>bee1\\10007154554_026417cfd0_n.jpg</td>\n",
       "      <td>1</td>\n",
       "      <td>0</td>\n",
       "      <td>0</td>\n",
       "      <td>0</td>\n",
       "      <td>1</td>\n",
       "      <td>0</td>\n",
       "      <td>0</td>\n",
       "      <td>bee</td>\n",
       "    </tr>\n",
       "    <tr>\n",
       "      <th>1</th>\n",
       "      <td>bee1\\10024864894_6dc54d4b34_n.jpg</td>\n",
       "      <td>1</td>\n",
       "      <td>0</td>\n",
       "      <td>0</td>\n",
       "      <td>0</td>\n",
       "      <td>1</td>\n",
       "      <td>0</td>\n",
       "      <td>1</td>\n",
       "      <td>bee</td>\n",
       "    </tr>\n",
       "    <tr>\n",
       "      <th>2</th>\n",
       "      <td>bee1\\10092043833_7306dfd1f0_n.jpg</td>\n",
       "      <td>1</td>\n",
       "      <td>0</td>\n",
       "      <td>0</td>\n",
       "      <td>0</td>\n",
       "      <td>1</td>\n",
       "      <td>1</td>\n",
       "      <td>0</td>\n",
       "      <td>bee</td>\n",
       "    </tr>\n",
       "  </tbody>\n",
       "</table>\n",
       "</div>"
      ],
      "text/plain": [
       "                                path  is_bee  is_wasp  is_otherinsect  \\\n",
       "0  bee1\\10007154554_026417cfd0_n.jpg       1        0               0   \n",
       "1  bee1\\10024864894_6dc54d4b34_n.jpg       1        0               0   \n",
       "2  bee1\\10092043833_7306dfd1f0_n.jpg       1        0               0   \n",
       "\n",
       "   is_other  photo_quality  is_validation  is_final_validation label  \n",
       "0         0              1              0                    0   bee  \n",
       "1         0              1              0                    1   bee  \n",
       "2         0              1              1                    0   bee  "
      ]
     },
     "execution_count": 7,
     "metadata": {},
     "output_type": "execute_result"
    }
   ],
   "source": [
    "data.head(3)"
   ]
  },
  {
   "cell_type": "markdown",
   "metadata": {},
   "source": [
    "-------------------------"
   ]
  },
  {
   "cell_type": "markdown",
   "metadata": {},
   "source": [
    "# Remove bad images"
   ]
  },
  {
   "cell_type": "markdown",
   "metadata": {},
   "source": [
    "Our goal here is to save the index of all the bad images to remove them later."
   ]
  },
  {
   "cell_type": "code",
   "execution_count": 8,
   "metadata": {},
   "outputs": [],
   "source": [
    "bad_images = []"
   ]
  },
  {
   "cell_type": "markdown",
   "metadata": {},
   "source": [
    "When we have looked to our dataset, we found out that one was a picture of a logo and it's easier for us to remove it now. <br>\n",
    "Its name was \"image\" so we are looking for this name."
   ]
  },
  {
   "cell_type": "code",
   "execution_count": 9,
   "metadata": {},
   "outputs": [],
   "source": [
    "bad_images.append(data[data['path'].str.contains(\"image\")].index[0])"
   ]
  },
  {
   "cell_type": "markdown",
   "metadata": {},
   "source": [
    "Now we load all images to have an access of their shapes :"
   ]
  },
  {
   "cell_type": "code",
   "execution_count": 15,
   "metadata": {},
   "outputs": [],
   "source": [
    "img = []\n",
    "for i in range(0,data.shape[0]):\n",
    "    img.append(mpimg.imread('C:/Users/Thibaut/Desktop/archive/kaggle_bee_vs_wasp/'+data.iloc[i][0]))"
   ]
  },
  {
   "cell_type": "markdown",
   "metadata": {},
   "source": [
    "We are now looking for pictures which are not in the RGB format (such as black & white or RGBAlpha)."
   ]
  },
  {
   "cell_type": "code",
   "execution_count": 16,
   "metadata": {},
   "outputs": [],
   "source": [
    "for i in range(0,len(img)):\n",
    "    shape = np.shape(img[i])\n",
    "    if(len(shape)==2 or shape[2] != 3):\n",
    "        bad_images.append(i)"
   ]
  },
  {
   "cell_type": "code",
   "execution_count": 17,
   "metadata": {},
   "outputs": [
    {
     "data": {
      "text/plain": [
       "64"
      ]
     },
     "execution_count": 17,
     "metadata": {},
     "output_type": "execute_result"
    }
   ],
   "source": [
    "len(f'We have {bad_images} bad images')"
   ]
  },
  {
   "cell_type": "markdown",
   "metadata": {},
   "source": [
    "Finally we drop all those images from our dataframe :"
   ]
  },
  {
   "cell_type": "code",
   "execution_count": 19,
   "metadata": {},
   "outputs": [],
   "source": [
    "data = data.drop(index = bad_images)"
   ]
  },
  {
   "cell_type": "markdown",
   "metadata": {},
   "source": [
    "Now we will save all index of bad images (black and white images, images with transparancy etc) and delete them because they are few."
   ]
  },
  {
   "cell_type": "markdown",
   "metadata": {},
   "source": [
    "We save it in a new CSV file :<br>\n",
    "If you want to re-save the cleaned data set you can but it's long (so we comment it to avoid any accidents). "
   ]
  },
  {
   "cell_type": "code",
   "execution_count": null,
   "metadata": {},
   "outputs": [],
   "source": [
    "#data.to_csv(r'd:/Various/kaggle_bee_vs_wasp/data_cleaned.csv',index=False) "
   ]
  },
  {
   "cell_type": "markdown",
   "metadata": {},
   "source": [
    "-----------------------------------"
   ]
  },
  {
   "cell_type": "markdown",
   "metadata": {},
   "source": [
    "# Converting into a RGB dataframe"
   ]
  },
  {
   "cell_type": "markdown",
   "metadata": {},
   "source": [
    "We load the data :"
   ]
  },
  {
   "cell_type": "code",
   "execution_count": 6,
   "metadata": {},
   "outputs": [],
   "source": [
    "#data = pd.read_csv('d:/Various/kaggle_bee_vs_wasp/data_cleaned.csv')"
   ]
  },
  {
   "cell_type": "code",
   "execution_count": 20,
   "metadata": {},
   "outputs": [
    {
     "data": {
      "text/html": [
       "<div>\n",
       "<style scoped>\n",
       "    .dataframe tbody tr th:only-of-type {\n",
       "        vertical-align: middle;\n",
       "    }\n",
       "\n",
       "    .dataframe tbody tr th {\n",
       "        vertical-align: top;\n",
       "    }\n",
       "\n",
       "    .dataframe thead th {\n",
       "        text-align: right;\n",
       "    }\n",
       "</style>\n",
       "<table border=\"1\" class=\"dataframe\">\n",
       "  <thead>\n",
       "    <tr style=\"text-align: right;\">\n",
       "      <th></th>\n",
       "      <th>path</th>\n",
       "      <th>is_bee</th>\n",
       "      <th>is_wasp</th>\n",
       "      <th>is_otherinsect</th>\n",
       "      <th>is_other</th>\n",
       "      <th>photo_quality</th>\n",
       "      <th>is_validation</th>\n",
       "      <th>is_final_validation</th>\n",
       "      <th>label</th>\n",
       "    </tr>\n",
       "  </thead>\n",
       "  <tbody>\n",
       "    <tr>\n",
       "      <th>0</th>\n",
       "      <td>bee1\\10007154554_026417cfd0_n.jpg</td>\n",
       "      <td>1</td>\n",
       "      <td>0</td>\n",
       "      <td>0</td>\n",
       "      <td>0</td>\n",
       "      <td>1</td>\n",
       "      <td>0</td>\n",
       "      <td>0</td>\n",
       "      <td>bee</td>\n",
       "    </tr>\n",
       "    <tr>\n",
       "      <th>1</th>\n",
       "      <td>bee1\\10024864894_6dc54d4b34_n.jpg</td>\n",
       "      <td>1</td>\n",
       "      <td>0</td>\n",
       "      <td>0</td>\n",
       "      <td>0</td>\n",
       "      <td>1</td>\n",
       "      <td>0</td>\n",
       "      <td>1</td>\n",
       "      <td>bee</td>\n",
       "    </tr>\n",
       "    <tr>\n",
       "      <th>2</th>\n",
       "      <td>bee1\\10092043833_7306dfd1f0_n.jpg</td>\n",
       "      <td>1</td>\n",
       "      <td>0</td>\n",
       "      <td>0</td>\n",
       "      <td>0</td>\n",
       "      <td>1</td>\n",
       "      <td>1</td>\n",
       "      <td>0</td>\n",
       "      <td>bee</td>\n",
       "    </tr>\n",
       "  </tbody>\n",
       "</table>\n",
       "</div>"
      ],
      "text/plain": [
       "                                path  is_bee  is_wasp  is_otherinsect  \\\n",
       "0  bee1\\10007154554_026417cfd0_n.jpg       1        0               0   \n",
       "1  bee1\\10024864894_6dc54d4b34_n.jpg       1        0               0   \n",
       "2  bee1\\10092043833_7306dfd1f0_n.jpg       1        0               0   \n",
       "\n",
       "   is_other  photo_quality  is_validation  is_final_validation label  \n",
       "0         0              1              0                    0   bee  \n",
       "1         0              1              0                    1   bee  \n",
       "2         0              1              1                    0   bee  "
      ]
     },
     "execution_count": 20,
     "metadata": {},
     "output_type": "execute_result"
    }
   ],
   "source": [
    "data.head(3)"
   ]
  },
  {
   "cell_type": "code",
   "execution_count": 22,
   "metadata": {},
   "outputs": [],
   "source": [
    "img = []\n",
    "for i in range(0,data.shape[0]):\n",
    "    img.append(mpimg.imread('C:/Users/Thibaut/Desktop/archive/kaggle_bee_vs_wasp/'+data.iloc[i][0]))"
   ]
  },
  {
   "cell_type": "code",
   "execution_count": 23,
   "metadata": {},
   "outputs": [
    {
     "name": "stdout",
     "output_type": "stream",
     "text": [
      "The image 0 has this shape (213, 320, 3)\n",
      "The image 1 has this shape (213, 319, 3)\n",
      "The image 2 has this shape (266, 320, 3)\n"
     ]
    }
   ],
   "source": [
    "for i in range(0,3):\n",
    "    print('The image',i,'has this shape',np.shape(img[i]))"
   ]
  },
  {
   "cell_type": "markdown",
   "metadata": {},
   "source": [
    "As we can see we don't have the same resolution for all images. We will crop those images to have scared images with the following method :"
   ]
  },
  {
   "cell_type": "code",
   "execution_count": 24,
   "metadata": {},
   "outputs": [],
   "source": [
    "def perfect_resize(img):\n",
    "    x = np.shape(img)\n",
    "    \n",
    "    diff = np.abs(x[0] - x[1])\n",
    "    a = int(diff/2)\n",
    "    \n",
    "    if(len(x) == 3):\n",
    "        if (x[0] < x[1]):\n",
    "            b = int(x[1]-(diff/2))\n",
    "            res = img[:,a:b,:]\n",
    "        else:\n",
    "            b = int(x[0]-(diff/2))\n",
    "            res = img[a:b,:,:]\n",
    "    else:\n",
    "        if (x[0] < x[1]):\n",
    "            b = int(x[1]-(diff/2))\n",
    "            res = img[:,a:b]\n",
    "        else:\n",
    "            b = int(x[0]-(diff/2))\n",
    "            res = img[a:b,:]\n",
    "        \n",
    "    return res"
   ]
  },
  {
   "cell_type": "code",
   "execution_count": 25,
   "metadata": {},
   "outputs": [],
   "source": [
    "for i in range(0,np.shape(img)[0]):\n",
    "    img[i] = perfect_resize(img[i])"
   ]
  },
  {
   "cell_type": "markdown",
   "metadata": {},
   "source": [
    "Now we check if all images are squared images :"
   ]
  },
  {
   "cell_type": "code",
   "execution_count": 26,
   "metadata": {},
   "outputs": [],
   "source": [
    "for i in range(0,len(img)):\n",
    "    if(np.shape(img[i])[0] != np.shape(img[i])[1]):\n",
    "        print(np.shape(img[0])[0],np.shape(img)[1])\n",
    "        print(\"Erreur, des images ont mal été modifiés :\" , i)"
   ]
  },
  {
   "cell_type": "markdown",
   "metadata": {},
   "source": [
    "Now we check what is the smallest size of all images :"
   ]
  },
  {
   "cell_type": "code",
   "execution_count": 27,
   "metadata": {},
   "outputs": [
    {
     "name": "stdout",
     "output_type": "stream",
     "text": [
      "124\n"
     ]
    }
   ],
   "source": [
    "mini = 1564\n",
    "for i in range(0,len(img)):\n",
    "    if np.shape(img[i])[0] < mini :\n",
    "        mini = np.shape(img[i])[0]\n",
    "        j = i\n",
    "print(mini)"
   ]
  },
  {
   "cell_type": "markdown",
   "metadata": {},
   "source": [
    "So we reduced all images with this size :"
   ]
  },
  {
   "cell_type": "code",
   "execution_count": 28,
   "metadata": {},
   "outputs": [],
   "source": [
    "for i in range(0,len(img)):\n",
    "    temp = Image.fromarray(img[i])\n",
    "    img[i] = np.array(temp.resize(size=(mini, mini)))"
   ]
  },
  {
   "cell_type": "code",
   "execution_count": 29,
   "metadata": {},
   "outputs": [],
   "source": [
    "for i in range(0,len(img)):\n",
    "    if (np.shape(img[i])[0] != mini) or (np.shape(img[i])[1] != mini) or (np.shape(img[i])[2] != 3):\n",
    "        print('Error')"
   ]
  },
  {
   "cell_type": "code",
   "execution_count": 30,
   "metadata": {},
   "outputs": [
    {
     "data": {
      "image/png": "[encoded data removed]",
      "text/plain": [
       "<PIL.Image.Image image mode=RGB size=124x124 at 0x176E81F7E88>"
      ]
     },
     "execution_count": 30,
     "metadata": {},
     "output_type": "execute_result"
    }
   ],
   "source": [
    "Image.fromarray(img[78])"
   ]
  },
  {
   "cell_type": "markdown",
   "metadata": {},
   "source": [
    "Now we will flatten the array to insert it into the dataframe :"
   ]
  },
  {
   "cell_type": "code",
   "execution_count": 31,
   "metadata": {},
   "outputs": [],
   "source": [
    "for i in range(0,len(img)):\n",
    "    img[i] = img[i].ravel()"
   ]
  },
  {
   "cell_type": "code",
   "execution_count": 32,
   "metadata": {},
   "outputs": [],
   "source": [
    "for i in range(0,len(img)):\n",
    "    if (np.shape(img[i])[0] != mini*mini*3):\n",
    "        print('Error',i)"
   ]
  },
  {
   "cell_type": "markdown",
   "metadata": {},
   "source": [
    "Now we will convert the array img into a dataframe :"
   ]
  },
  {
   "cell_type": "code",
   "execution_count": 33,
   "metadata": {},
   "outputs": [],
   "source": [
    "column = []\n",
    "for i in range(0,mini*mini):\n",
    "    name = 'pixel_'+str(1+int(i/mini))+'_'+str(1+(i%mini))\n",
    "    column.append(name+'_R')\n",
    "    column.append(name+'_G')\n",
    "    column.append(name+'_B')"
   ]
  },
  {
   "cell_type": "code",
   "execution_count": 34,
   "metadata": {},
   "outputs": [
    {
     "data": {
      "text/plain": [
       "(11415, 46128)"
      ]
     },
     "execution_count": 34,
     "metadata": {},
     "output_type": "execute_result"
    }
   ],
   "source": [
    "np.shape(img)"
   ]
  },
  {
   "cell_type": "code",
   "execution_count": 35,
   "metadata": {},
   "outputs": [],
   "source": [
    "images = pd.DataFrame(columns = column, data=img)"
   ]
  },
  {
   "cell_type": "code",
   "execution_count": 21,
   "metadata": {},
   "outputs": [],
   "source": [
    "#images = pd.DataFrame(columns = column)"
   ]
  },
  {
   "cell_type": "code",
   "execution_count": 24,
   "metadata": {
    "collapsed": true,
    "jupyter": {
     "outputs_hidden": true
    }
   },
   "outputs": [
    {
     "name": "stdout",
     "output_type": "stream",
     "text": [
      "0\n",
      "100\n",
      "200\n",
      "300\n",
      "400\n",
      "500\n",
      "600\n",
      "700\n",
      "800\n",
      "900\n",
      "1000\n",
      "1100\n",
      "1200\n",
      "1300\n",
      "1400\n",
      "1500\n",
      "1600\n",
      "1700\n",
      "1800\n",
      "1900\n",
      "2000\n",
      "2100\n",
      "2200\n",
      "2300\n",
      "2400\n",
      "2500\n",
      "2600\n",
      "2700\n",
      "2800\n",
      "2900\n",
      "3000\n",
      "3100\n",
      "3200\n",
      "3300\n",
      "3400\n",
      "3500\n",
      "3600\n",
      "3700\n",
      "3800\n",
      "3900\n",
      "4000\n",
      "4100\n",
      "4200\n",
      "4300\n",
      "4400\n",
      "4500\n",
      "4600\n",
      "4700\n",
      "4800\n",
      "4900\n",
      "5000\n",
      "5100\n",
      "5200\n",
      "5300\n",
      "5400\n",
      "5500\n",
      "5600\n",
      "5700\n",
      "5800\n",
      "5900\n",
      "6000\n",
      "6100\n",
      "6200\n",
      "6300\n",
      "6400\n",
      "6500\n",
      "6600\n",
      "6700\n",
      "6800\n",
      "6900\n",
      "7000\n",
      "7100\n",
      "7200\n",
      "7300\n",
      "7400\n",
      "7500\n",
      "7600\n",
      "7700\n",
      "7800\n",
      "7900\n",
      "8000\n",
      "8100\n",
      "8200\n",
      "8300\n",
      "8400\n",
      "8500\n",
      "8600\n",
      "8700\n",
      "8800\n",
      "8900\n",
      "9000\n",
      "9100\n",
      "9200\n",
      "9300\n",
      "9400\n",
      "9500\n",
      "9600\n",
      "9700\n",
      "9800\n",
      "9900\n",
      "10000\n",
      "10100\n",
      "10200\n",
      "10300\n",
      "10400\n",
      "10500\n",
      "10600\n",
      "10700\n",
      "10800\n",
      "10900\n",
      "11000\n",
      "11100\n",
      "11200\n",
      "11300\n",
      "11400\n"
     ]
    }
   ],
   "source": [
    "# for i in range(0,len(img)):\n",
    "#     images.loc[i] = img[i]\n",
    "#     if i%100 == 0:\n",
    "#         print(i)"
   ]
  },
  {
   "cell_type": "code",
   "execution_count": 3,
   "metadata": {},
   "outputs": [
    {
     "data": {
      "text/html": [
       "<div>\n",
       "<style scoped>\n",
       "    .dataframe tbody tr th:only-of-type {\n",
       "        vertical-align: middle;\n",
       "    }\n",
       "\n",
       "    .dataframe tbody tr th {\n",
       "        vertical-align: top;\n",
       "    }\n",
       "\n",
       "    .dataframe thead th {\n",
       "        text-align: right;\n",
       "    }\n",
       "</style>\n",
       "<table border=\"1\" class=\"dataframe\">\n",
       "  <thead>\n",
       "    <tr style=\"text-align: right;\">\n",
       "      <th></th>\n",
       "      <th>pixel_1_1_R</th>\n",
       "      <th>pixel_1_1_G</th>\n",
       "      <th>pixel_1_1_B</th>\n",
       "      <th>pixel_1_2_R</th>\n",
       "      <th>pixel_1_2_G</th>\n",
       "      <th>pixel_1_2_B</th>\n",
       "      <th>pixel_1_3_R</th>\n",
       "      <th>pixel_1_3_G</th>\n",
       "      <th>pixel_1_3_B</th>\n",
       "      <th>pixel_1_4_R</th>\n",
       "      <th>...</th>\n",
       "      <th>pixel_124_121_B</th>\n",
       "      <th>pixel_124_122_R</th>\n",
       "      <th>pixel_124_122_G</th>\n",
       "      <th>pixel_124_122_B</th>\n",
       "      <th>pixel_124_123_R</th>\n",
       "      <th>pixel_124_123_G</th>\n",
       "      <th>pixel_124_123_B</th>\n",
       "      <th>pixel_124_124_R</th>\n",
       "      <th>pixel_124_124_G</th>\n",
       "      <th>pixel_124_124_B</th>\n",
       "    </tr>\n",
       "  </thead>\n",
       "  <tbody>\n",
       "    <tr>\n",
       "      <th>0</th>\n",
       "      <td>87</td>\n",
       "      <td>10</td>\n",
       "      <td>37</td>\n",
       "      <td>105</td>\n",
       "      <td>29</td>\n",
       "      <td>54</td>\n",
       "      <td>111</td>\n",
       "      <td>37</td>\n",
       "      <td>58</td>\n",
       "      <td>116</td>\n",
       "      <td>...</td>\n",
       "      <td>68</td>\n",
       "      <td>111</td>\n",
       "      <td>41</td>\n",
       "      <td>60</td>\n",
       "      <td>99</td>\n",
       "      <td>28</td>\n",
       "      <td>53</td>\n",
       "      <td>86</td>\n",
       "      <td>18</td>\n",
       "      <td>46</td>\n",
       "    </tr>\n",
       "    <tr>\n",
       "      <th>1</th>\n",
       "      <td>65</td>\n",
       "      <td>68</td>\n",
       "      <td>39</td>\n",
       "      <td>66</td>\n",
       "      <td>70</td>\n",
       "      <td>40</td>\n",
       "      <td>68</td>\n",
       "      <td>73</td>\n",
       "      <td>43</td>\n",
       "      <td>71</td>\n",
       "      <td>...</td>\n",
       "      <td>0</td>\n",
       "      <td>251</td>\n",
       "      <td>156</td>\n",
       "      <td>0</td>\n",
       "      <td>254</td>\n",
       "      <td>171</td>\n",
       "      <td>2</td>\n",
       "      <td>255</td>\n",
       "      <td>183</td>\n",
       "      <td>1</td>\n",
       "    </tr>\n",
       "    <tr>\n",
       "      <th>2</th>\n",
       "      <td>123</td>\n",
       "      <td>126</td>\n",
       "      <td>79</td>\n",
       "      <td>123</td>\n",
       "      <td>126</td>\n",
       "      <td>79</td>\n",
       "      <td>124</td>\n",
       "      <td>126</td>\n",
       "      <td>79</td>\n",
       "      <td>121</td>\n",
       "      <td>...</td>\n",
       "      <td>31</td>\n",
       "      <td>108</td>\n",
       "      <td>128</td>\n",
       "      <td>14</td>\n",
       "      <td>104</td>\n",
       "      <td>125</td>\n",
       "      <td>10</td>\n",
       "      <td>103</td>\n",
       "      <td>126</td>\n",
       "      <td>22</td>\n",
       "    </tr>\n",
       "    <tr>\n",
       "      <th>3</th>\n",
       "      <td>165</td>\n",
       "      <td>116</td>\n",
       "      <td>199</td>\n",
       "      <td>195</td>\n",
       "      <td>153</td>\n",
       "      <td>222</td>\n",
       "      <td>216</td>\n",
       "      <td>177</td>\n",
       "      <td>237</td>\n",
       "      <td>216</td>\n",
       "      <td>...</td>\n",
       "      <td>10</td>\n",
       "      <td>19</td>\n",
       "      <td>20</td>\n",
       "      <td>14</td>\n",
       "      <td>17</td>\n",
       "      <td>17</td>\n",
       "      <td>11</td>\n",
       "      <td>19</td>\n",
       "      <td>16</td>\n",
       "      <td>7</td>\n",
       "    </tr>\n",
       "    <tr>\n",
       "      <th>4</th>\n",
       "      <td>232</td>\n",
       "      <td>195</td>\n",
       "      <td>117</td>\n",
       "      <td>229</td>\n",
       "      <td>191</td>\n",
       "      <td>117</td>\n",
       "      <td>222</td>\n",
       "      <td>175</td>\n",
       "      <td>110</td>\n",
       "      <td>216</td>\n",
       "      <td>...</td>\n",
       "      <td>88</td>\n",
       "      <td>190</td>\n",
       "      <td>88</td>\n",
       "      <td>91</td>\n",
       "      <td>187</td>\n",
       "      <td>88</td>\n",
       "      <td>90</td>\n",
       "      <td>186</td>\n",
       "      <td>89</td>\n",
       "      <td>89</td>\n",
       "    </tr>\n",
       "    <tr>\n",
       "      <th>...</th>\n",
       "      <td>...</td>\n",
       "      <td>...</td>\n",
       "      <td>...</td>\n",
       "      <td>...</td>\n",
       "      <td>...</td>\n",
       "      <td>...</td>\n",
       "      <td>...</td>\n",
       "      <td>...</td>\n",
       "      <td>...</td>\n",
       "      <td>...</td>\n",
       "      <td>...</td>\n",
       "      <td>...</td>\n",
       "      <td>...</td>\n",
       "      <td>...</td>\n",
       "      <td>...</td>\n",
       "      <td>...</td>\n",
       "      <td>...</td>\n",
       "      <td>...</td>\n",
       "      <td>...</td>\n",
       "      <td>...</td>\n",
       "      <td>...</td>\n",
       "    </tr>\n",
       "    <tr>\n",
       "      <th>11410</th>\n",
       "      <td>120</td>\n",
       "      <td>95</td>\n",
       "      <td>85</td>\n",
       "      <td>120</td>\n",
       "      <td>99</td>\n",
       "      <td>86</td>\n",
       "      <td>120</td>\n",
       "      <td>100</td>\n",
       "      <td>91</td>\n",
       "      <td>124</td>\n",
       "      <td>...</td>\n",
       "      <td>192</td>\n",
       "      <td>205</td>\n",
       "      <td>194</td>\n",
       "      <td>192</td>\n",
       "      <td>204</td>\n",
       "      <td>194</td>\n",
       "      <td>190</td>\n",
       "      <td>203</td>\n",
       "      <td>195</td>\n",
       "      <td>190</td>\n",
       "    </tr>\n",
       "    <tr>\n",
       "      <th>11411</th>\n",
       "      <td>41</td>\n",
       "      <td>43</td>\n",
       "      <td>65</td>\n",
       "      <td>74</td>\n",
       "      <td>79</td>\n",
       "      <td>86</td>\n",
       "      <td>155</td>\n",
       "      <td>157</td>\n",
       "      <td>160</td>\n",
       "      <td>219</td>\n",
       "      <td>...</td>\n",
       "      <td>73</td>\n",
       "      <td>40</td>\n",
       "      <td>58</td>\n",
       "      <td>77</td>\n",
       "      <td>47</td>\n",
       "      <td>58</td>\n",
       "      <td>74</td>\n",
       "      <td>48</td>\n",
       "      <td>58</td>\n",
       "      <td>66</td>\n",
       "    </tr>\n",
       "    <tr>\n",
       "      <th>11412</th>\n",
       "      <td>63</td>\n",
       "      <td>68</td>\n",
       "      <td>78</td>\n",
       "      <td>63</td>\n",
       "      <td>67</td>\n",
       "      <td>78</td>\n",
       "      <td>63</td>\n",
       "      <td>67</td>\n",
       "      <td>76</td>\n",
       "      <td>64</td>\n",
       "      <td>...</td>\n",
       "      <td>32</td>\n",
       "      <td>41</td>\n",
       "      <td>32</td>\n",
       "      <td>27</td>\n",
       "      <td>39</td>\n",
       "      <td>29</td>\n",
       "      <td>25</td>\n",
       "      <td>35</td>\n",
       "      <td>29</td>\n",
       "      <td>34</td>\n",
       "    </tr>\n",
       "    <tr>\n",
       "      <th>11413</th>\n",
       "      <td>24</td>\n",
       "      <td>28</td>\n",
       "      <td>37</td>\n",
       "      <td>23</td>\n",
       "      <td>32</td>\n",
       "      <td>22</td>\n",
       "      <td>26</td>\n",
       "      <td>36</td>\n",
       "      <td>39</td>\n",
       "      <td>22</td>\n",
       "      <td>...</td>\n",
       "      <td>176</td>\n",
       "      <td>166</td>\n",
       "      <td>162</td>\n",
       "      <td>163</td>\n",
       "      <td>177</td>\n",
       "      <td>171</td>\n",
       "      <td>171</td>\n",
       "      <td>178</td>\n",
       "      <td>171</td>\n",
       "      <td>170</td>\n",
       "    </tr>\n",
       "    <tr>\n",
       "      <th>11414</th>\n",
       "      <td>60</td>\n",
       "      <td>61</td>\n",
       "      <td>57</td>\n",
       "      <td>67</td>\n",
       "      <td>69</td>\n",
       "      <td>60</td>\n",
       "      <td>61</td>\n",
       "      <td>66</td>\n",
       "      <td>57</td>\n",
       "      <td>59</td>\n",
       "      <td>...</td>\n",
       "      <td>106</td>\n",
       "      <td>131</td>\n",
       "      <td>135</td>\n",
       "      <td>107</td>\n",
       "      <td>130</td>\n",
       "      <td>134</td>\n",
       "      <td>108</td>\n",
       "      <td>129</td>\n",
       "      <td>133</td>\n",
       "      <td>107</td>\n",
       "    </tr>\n",
       "  </tbody>\n",
       "</table>\n",
       "<p>11415 rows × 46128 columns</p>\n",
       "</div>"
      ],
      "text/plain": [
       "       pixel_1_1_R  pixel_1_1_G  pixel_1_1_B  pixel_1_2_R  pixel_1_2_G  \\\n",
       "0               87           10           37          105           29   \n",
       "1               65           68           39           66           70   \n",
       "2              123          126           79          123          126   \n",
       "3              165          116          199          195          153   \n",
       "4              232          195          117          229          191   \n",
       "...            ...          ...          ...          ...          ...   \n",
       "11410          120           95           85          120           99   \n",
       "11411           41           43           65           74           79   \n",
       "11412           63           68           78           63           67   \n",
       "11413           24           28           37           23           32   \n",
       "11414           60           61           57           67           69   \n",
       "\n",
       "       pixel_1_2_B  pixel_1_3_R  pixel_1_3_G  pixel_1_3_B  pixel_1_4_R  ...  \\\n",
       "0               54          111           37           58          116  ...   \n",
       "1               40           68           73           43           71  ...   \n",
       "2               79          124          126           79          121  ...   \n",
       "3              222          216          177          237          216  ...   \n",
       "4              117          222          175          110          216  ...   \n",
       "...            ...          ...          ...          ...          ...  ...   \n",
       "11410           86          120          100           91          124  ...   \n",
       "11411           86          155          157          160          219  ...   \n",
       "11412           78           63           67           76           64  ...   \n",
       "11413           22           26           36           39           22  ...   \n",
       "11414           60           61           66           57           59  ...   \n",
       "\n",
       "       pixel_124_121_B  pixel_124_122_R  pixel_124_122_G  pixel_124_122_B  \\\n",
       "0                   68              111               41               60   \n",
       "1                    0              251              156                0   \n",
       "2                   31              108              128               14   \n",
       "3                   10               19               20               14   \n",
       "4                   88              190               88               91   \n",
       "...                ...              ...              ...              ...   \n",
       "11410              192              205              194              192   \n",
       "11411               73               40               58               77   \n",
       "11412               32               41               32               27   \n",
       "11413              176              166              162              163   \n",
       "11414              106              131              135              107   \n",
       "\n",
       "       pixel_124_123_R  pixel_124_123_G  pixel_124_123_B  pixel_124_124_R  \\\n",
       "0                   99               28               53               86   \n",
       "1                  254              171                2              255   \n",
       "2                  104              125               10              103   \n",
       "3                   17               17               11               19   \n",
       "4                  187               88               90              186   \n",
       "...                ...              ...              ...              ...   \n",
       "11410              204              194              190              203   \n",
       "11411               47               58               74               48   \n",
       "11412               39               29               25               35   \n",
       "11413              177              171              171              178   \n",
       "11414              130              134              108              129   \n",
       "\n",
       "       pixel_124_124_G  pixel_124_124_B  \n",
       "0                   18               46  \n",
       "1                  183                1  \n",
       "2                  126               22  \n",
       "3                   16                7  \n",
       "4                   89               89  \n",
       "...                ...              ...  \n",
       "11410              195              190  \n",
       "11411               58               66  \n",
       "11412               29               34  \n",
       "11413              171              170  \n",
       "11414              133              107  \n",
       "\n",
       "[11415 rows x 46128 columns]"
      ]
     },
     "execution_count": 3,
     "metadata": {},
     "output_type": "execute_result"
    }
   ],
   "source": [
    "data"
   ]
  },
  {
   "cell_type": "code",
   "execution_count": 28,
   "metadata": {},
   "outputs": [],
   "source": [
    "images.to_csv(r'd:/Various/kaggle_bee_vs_wasp/final.csv',index=False)"
   ]
  },
  {
   "cell_type": "code",
   "execution_count": 2,
   "metadata": {},
   "outputs": [],
   "source": [
    "data = pd.read_csv('d:/Various/kaggle_bee_vs_wasp/final.csv')"
   ]
  }
 ],
 "metadata": {
  "kernelspec": {
   "display_name": "Python 3",
   "language": "python",
   "name": "python3"
  },
  "language_info": {
   "codemirror_mode": {
    "name": "ipython",
    "version": 3
   },
   "file_extension": ".py",
   "mimetype": "text/x-python",
   "name": "python",
   "nbconvert_exporter": "python",
   "pygments_lexer": "ipython3",
   "version": "3.7.6"
  }
 },
 "nbformat": 4,
 "nbformat_minor": 4
}
